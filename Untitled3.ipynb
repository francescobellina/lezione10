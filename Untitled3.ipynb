{
 "cells": [
  {
   "cell_type": "markdown",
   "metadata": {},
   "source": [
    "## ESERCIZIO 1-2:"
   ]
  },
  {
   "cell_type": "code",
   "execution_count": 174,
   "metadata": {
    "scrolled": true
   },
   "outputs": [
    {
     "name": "stdout",
     "output_type": "stream",
     "text": [
      "la media della lista generata vale:                                      1.0455781644108917\n",
      "il parametro tau passato con il metodo sezione aurea-loglikelihood vale: 0.9999669828558284\n",
      "0.045611181555063274\n"
     ]
    },
    {
     "data": {
      "image/png": "[encoded data removed]",
      "text/plain": [
       "<Figure size 432x288 with 1 Axes>"
      ]
     },
     "metadata": {
      "needs_background": "light"
     },
     "output_type": "display_data"
    }
   ],
   "source": [
    "#Si scriva una libreria di funzioni per determinare il parametro τ della distribuzione esponenziale a partire\n",
    "#da una lista di numeri riempita con numeri pseudo-casuali distribuiti \n",
    "#secondo una distribuzione di densità di probabilità esponenziale.\n",
    "\n",
    "#Si confronti il risultato ottenuto con la media dei numeri salvati nella lista.\n",
    "\n",
    "#Come dipende il risultato dall’intervallo inziale passato alla funzione sezione_aurea_max_LL?\n",
    "#ES2: Plot the profile of the likelihood function and the point identified as its maximum.\n",
    "\n",
    "import numpy as np\n",
    "import matplotlib.pyplot as plt\n",
    "from myrand import generate_uniform, generate_range, rand_exp, generate_exp\n",
    "from likelihood import likelihood\n",
    "from math import exp, log\n",
    "from statystic import mean\n",
    "import random\n",
    "\n",
    "def exp_pdf (x, tau) :      \n",
    "    '''\n",
    "    the exponential probability density function\n",
    "    '''\n",
    "    if tau == 0. : print(\"\")\n",
    "    #if x < 0. : return 0.   #essendo un esponenziale proteggiamo la funzione da eventuali infiniti\n",
    "    return np.exp (-1 * x / tau) / tau #voglio che restituisca un array MODIFICO exp in un Array\n",
    "\n",
    "\n",
    "# ---- ---- ---- ---- ---- ---- ---- ---- ---- ---- ---- ---\n",
    "\n",
    "def loglikelihood (theta, pdf, sample) :\n",
    "    '''\n",
    "    the log-likelihood function calculated\n",
    "    for a sample of independent variables idendically distributed \n",
    "    according to their pdf with parameter theta\n",
    "    '''\n",
    "    risultato = 0.\n",
    "    for x in sample:\n",
    "        if (pdf (x, theta) > 0.) : risultato = risultato + log (pdf (x, theta))    \n",
    "    return risultato\n",
    "\n",
    "def sezioneAureaMax_LL (\n",
    "    g,              # funzione di likelihood trovare il massimo\n",
    "    pdf,            # probability density function of the events\n",
    "    sample,         # sample of the events\n",
    "    x0,             # estremo dell'intervallo          \n",
    "    x1,             # altro estremo dell'intervallo                \n",
    "    prec = 0.0001): # precisione della funzione        \n",
    "    '''\n",
    "    Funzione che calcola estremanti\n",
    "    con il metodo della sezione aurea\n",
    "    '''\n",
    "\n",
    "    r = 0.618\n",
    "    x2 = 0.\n",
    "    x3 = 0.\n",
    "    larghezza = abs (x1 - x0)\n",
    "     \n",
    "    while (larghezza > prec):\n",
    "        x2 = x0 + r * (x1 - x0) \n",
    "        x3 = x0 + (1. - r) * (x1 - x0)  \n",
    "      \n",
    "        # si restringe l'intervallo tenendo fisso uno dei due estremi e spostando l'altro        \n",
    "        if (g (x3,pdf,sample) < g (x2,pdf,sample)): \n",
    "            x0 = x3\n",
    "            x1 = x1         \n",
    "        else :\n",
    "            x1 = x2\n",
    "            x0 = x0          \n",
    "            \n",
    "        larghezza = abs (x1-x0)             \n",
    "                                   \n",
    "    return (x0 + x1) / 2. \n",
    "\n",
    "\n",
    "def main():\n",
    "    \n",
    "\n",
    "    t0=1 #mean\n",
    "\n",
    "    data1=generate_exp(t0,100) #ECCO UNA LISTA DI NUMERI GENERATI CON DISTR ESPONENZIALE\n",
    "    #print(data)\n",
    "    \n",
    "    media_true = mean(data1)\n",
    "    print(\"la media della lista generata vale:                                     \", media_true)\n",
    "        \n",
    "    massimo = sezioneAureaMax_LL(loglikelihood, exp_pdf, data1, 0., 1.)\n",
    "\n",
    "    print(\"il parametro tau passato con il metodo sezione aurea-loglikelihood vale:\", massimo)\n",
    "    print(abs(media_true-massimo))\n",
    "   \n",
    "\n",
    " #ES2: Plot the profile of the likelihood function and the point identified as its maximum.\n",
    "\n",
    "    fig, ax = plt.subplots ()\n",
    "    ax.set_title ('Log-likelihood scan', size=14)\n",
    "    ax.set_xlabel ('tau')\n",
    "    ax.set_ylabel ('log likelihood')\n",
    "    \n",
    "    \n",
    "\n",
    "    tau = np.linspace (0.5, 5., 10000)\n",
    "    ll  = np.arange (0., tau.size)\n",
    "\n",
    "    for i in range (tau.size) :\n",
    "        ll[i] = loglikelihood (tau[i], exp_pdf, data1)\n",
    "\n",
    "    x1=massimo\n",
    "    y1=loglikelihood(massimo,exp_pdf,data1)\n",
    "    plt.plot(x1,y1, '+')\n",
    "    \n",
    "    x2=media_true\n",
    "    y2=loglikelihood(media_true,exp_pdf,data1)\n",
    "    plt.plot(x2,y2, '*')\n",
    "    \n",
    "    plt.axvline(x = massimo, color = 'b' )\n",
    "    plt.axvline(x = media_true, color = 'g')\n",
    "    \n",
    "    plt.plot (tau, ll, 'r')\n",
    "    plt.show ()\n",
    "\n",
    "if __name__ == \"__main__\":\n",
    "    main ()\n",
    "\n",
    "    "
   ]
  },
  {
   "cell_type": "code",
   "execution_count": null,
   "metadata": {},
   "outputs": [],
   "source": [
    "#Si modifichi la funzione sezione_aurea_max_LL, aggiungendo la stampa a schermo dei valori degli estremi \n",
    "#dell’intevallo considerato ad ogni iterazione, per osservarne il restringimento durante l’esecuzione del \n",
    "#programma."
   ]
  },
  {
   "cell_type": "code",
   "execution_count": null,
   "metadata": {},
   "outputs": [],
   "source": [
    "#Si modifichi la funzione loglikelihood in modo che calcoli il logaritmo del prodotto dei valori della funzione \n",
    "#di densità di probabilità, piuttosto che la somma dei singoli logaritmi.\n",
    "#Come cambia il comportamento dell’algoritmo?"
   ]
  }
 ],
 "metadata": {
  "kernelspec": {
   "display_name": "Python 3 (ipykernel)",
   "language": "python",
   "name": "python3"
  },
  "language_info": {
   "codemirror_mode": {
    "name": "ipython",
    "version": 3
   },
   "file_extension": ".py",
   "mimetype": "text/x-python",
   "name": "python",
   "nbconvert_exporter": "python",
   "pygments_lexer": "ipython3",
   "version": "3.8.10"
  }
 },
 "nbformat": 4,
 "nbformat_minor": 4
}
